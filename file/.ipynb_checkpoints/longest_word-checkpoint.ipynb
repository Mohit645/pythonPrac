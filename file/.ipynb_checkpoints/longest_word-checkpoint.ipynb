{
 "cells": [
  {
   "cell_type": "code",
   "execution_count": null,
   "metadata": {
    "collapsed": true
   },
   "outputs": [],
   "source": [
    "# Write a python program to find the longest words in a file\n",
    "# Using test.txt file in same folder"
   ]
  },
  {
   "cell_type": "code",
   "execution_count": 28,
   "metadata": {},
   "outputs": [],
   "source": [
    "def findLongestWord(textFile):\n",
    "   \n",
    "    textContent = textFile.read()\n",
    "    textContent = textContent.split()\n",
    "    wordList = list()\n",
    "    for i in textContent:\n",
    "        wordList.append((len(i), i))\n",
    "    wordList.sort()\n",
    "    \n",
    "    return wordList[-1]       "
   ]
  },
  {
   "cell_type": "code",
   "execution_count": 29,
   "metadata": {},
   "outputs": [
    {
     "name": "stdout",
     "output_type": "stream",
     "text": [
      "Longest word in the file is:  (16, 'object-oriented,')\n"
     ]
    }
   ],
   "source": [
    "textFile = open(\"test.txt\", \"r\")\n",
    "print(\"Longest word in the file is: \", findLongestWord(textFile))"
   ]
  }
 ],
 "metadata": {
  "kernelspec": {
   "display_name": "Python 3",
   "language": "python",
   "name": "python3"
  },
  "language_info": {
   "codemirror_mode": {
    "name": "ipython",
    "version": 3
   },
   "file_extension": ".py",
   "mimetype": "text/x-python",
   "name": "python",
   "nbconvert_exporter": "python",
   "pygments_lexer": "ipython3",
   "version": "3.7.4"
  }
 },
 "nbformat": 4,
 "nbformat_minor": 2
}
