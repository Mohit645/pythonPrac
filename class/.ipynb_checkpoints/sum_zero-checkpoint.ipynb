{
 "cells": [
  {
   "cell_type": "code",
   "execution_count": null,
   "metadata": {
    "collapsed": true
   },
   "outputs": [],
   "source": [
    "# Write a Python program to find the three elements that sum to zero from a set (array) of n real numbers.\n",
    "# Input\n",
    "# [-25, -10, -7, -3, 2, 4, 8, 10]\n",
    "# Output\n",
    "# [[-10, 2, 8], [-7, -3, 10]] "
   ]
  },
  {
   "cell_type": "code",
   "execution_count": 17,
   "metadata": {},
   "outputs": [],
   "source": [
    "class findEle:\n",
    "    from itertools import combinations \n",
    "    def __init__(self, arr, r):\n",
    "        self.arr = arr\n",
    "        self.r = r\n",
    "        \n",
    "    def findElements(self):\n",
    "        returnList = list()\n",
    "        possibleElements = list(combinations(self.arr, self.r))\n",
    "        for i in possibleElements:\n",
    "            if(sum(i)==0):\n",
    "                returnList.append(i)\n",
    "        \n",
    "        return returnList"
   ]
  },
  {
   "cell_type": "code",
   "execution_count": 18,
   "metadata": {},
   "outputs": [
    {
     "data": {
      "text/plain": [
       "[(-10, 2, 8), (-7, -3, 10)]"
      ]
     },
     "execution_count": 18,
     "metadata": {},
     "output_type": "execute_result"
    }
   ],
   "source": [
    "array = [-25, -10, -7, -3, 2, 4, 8, 10]\n",
    "FE = findEle(array, 3)\n",
    "findEle.findElements(FE)"
   ]
  }
 ],
 "metadata": {
  "kernelspec": {
   "display_name": "Python 3",
   "language": "python",
   "name": "python3"
  },
  "language_info": {
   "codemirror_mode": {
    "name": "ipython",
    "version": 3
   },
   "file_extension": ".py",
   "mimetype": "text/x-python",
   "name": "python",
   "nbconvert_exporter": "python",
   "pygments_lexer": "ipython3",
   "version": "3.7.4"
  }
 },
 "nbformat": 4,
 "nbformat_minor": 2
}
