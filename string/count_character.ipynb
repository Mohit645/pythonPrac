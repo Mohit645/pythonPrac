{
 "cells": [
  {
   "cell_type": "code",
   "execution_count": null,
   "metadata": {
    "collapsed": true
   },
   "outputs": [],
   "source": [
    "# Write a Python program to count the number of characters (character frequency) in a string.\n",
    "# Expected Result : {'o': 3, 'g': 2, '.': 1, 'e': 1, 'l': 1, 'm': 1, 'c': 1}"
   ]
  },
  {
   "cell_type": "code",
   "execution_count": 9,
   "metadata": {},
   "outputs": [],
   "source": [
    "def charFrequencyCounter(String):\n",
    "    dict_Char = {}\n",
    "    for i in String:\n",
    "        count = 0\n",
    "        count = String.count(i)\n",
    "        if(i not in dict_Char):\n",
    "            dict_Char.update({i : count})\n",
    "    return dict_Char"
   ]
  },
  {
   "cell_type": "code",
   "execution_count": 11,
   "metadata": {},
   "outputs": [
    {
     "name": "stdout",
     "output_type": "stream",
     "text": [
      "{'M': 1, 'o': 1, 'h': 2, 'i': 2, 't': 1, ' ': 1, 'K': 1, 'a': 1, 'u': 1, 's': 1, 'k': 1}\n"
     ]
    }
   ],
   "source": [
    "print(charFrequencyCounter(\"Mohit Kaushik\"))"
   ]
  }
 ],
 "metadata": {
  "kernelspec": {
   "display_name": "Python 3",
   "language": "python",
   "name": "python3"
  },
  "language_info": {
   "codemirror_mode": {
    "name": "ipython",
    "version": 3
   },
   "file_extension": ".py",
   "mimetype": "text/x-python",
   "name": "python",
   "nbconvert_exporter": "python",
   "pygments_lexer": "ipython3",
   "version": "3.7.4"
  }
 },
 "nbformat": 4,
 "nbformat_minor": 2
}
