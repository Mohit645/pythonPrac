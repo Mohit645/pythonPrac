{
 "cells": [
  {
   "cell_type": "code",
   "execution_count": null,
   "metadata": {
    "collapsed": true
   },
   "outputs": [],
   "source": [
    "#  Write a Python program to count the occurrences of each word in a given sentence"
   ]
  },
  {
   "cell_type": "code",
   "execution_count": 1,
   "metadata": {},
   "outputs": [],
   "source": [
    "def wordCounter(String):\n",
    "    count = 0\n",
    "    for i in String:\n",
    "        if(i==' '):\n",
    "            count += 1\n",
    "    return count+1        "
   ]
  },
  {
   "cell_type": "code",
   "execution_count": 2,
   "metadata": {},
   "outputs": [
    {
     "data": {
      "text/plain": [
       "9"
      ]
     },
     "execution_count": 2,
     "metadata": {},
     "output_type": "execute_result"
    }
   ],
   "source": [
    "inputString = \"the quick brown fox jumps over the lazy dog.\"\n",
    "wordCounter(inputString)"
   ]
  },
  {
   "cell_type": "code",
   "execution_count": 23,
   "metadata": {},
   "outputs": [],
   "source": [
    "def wordOccurance(String):\n",
    "    dictWord = {}\n",
    "    words = String.split()\n",
    "    words = set(words)     \n",
    "    for i in words:\n",
    "        count = 0\n",
    "        count = String.count(i)\n",
    "        if(i not in dictWord):\n",
    "            dictWord.update({i : count})\n",
    "    return dictWord        "
   ]
  },
  {
   "cell_type": "code",
   "execution_count": 25,
   "metadata": {},
   "outputs": [
    {
     "name": "stdout",
     "output_type": "stream",
     "text": [
      "{'quick': 1, 'over': 1, 'fox': 1, 'dog.': 1, 'brown': 1, 'the': 2, 'lazy': 1, 'jumps': 1}\n"
     ]
    }
   ],
   "source": [
    "inputString = \"the quick brown fox jumps over the lazy dog.\"\n",
    "print(wordOccurance(inputString))"
   ]
  },
  {
   "cell_type": "code",
   "execution_count": null,
   "metadata": {},
   "outputs": [],
   "source": []
  }
 ],
 "metadata": {
  "kernelspec": {
   "display_name": "Python 3",
   "language": "python",
   "name": "python3"
  },
  "language_info": {
   "codemirror_mode": {
    "name": "ipython",
    "version": 3
   },
   "file_extension": ".py",
   "mimetype": "text/x-python",
   "name": "python",
   "nbconvert_exporter": "python",
   "pygments_lexer": "ipython3",
   "version": "3.7.4"
  }
 },
 "nbformat": 4,
 "nbformat_minor": 2
}
