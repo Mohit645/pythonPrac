{
 "cells": [
  {
   "cell_type": "code",
   "execution_count": null,
   "metadata": {
    "collapsed": true
   },
   "outputs": [],
   "source": [
    "# 'The quick brown fox jumps over the lazy dog.'\n",
    "# input : \"The quick brown fox jumps over the lazy dog.\"\n",
    "# output : \"dog. lazy the over jumps fox brown quick The \""
   ]
  },
  {
   "cell_type": "code",
   "execution_count": 8,
   "metadata": {},
   "outputs": [],
   "source": [
    "def reverseString(text):\n",
    "    inputList = list()\n",
    "    inputList = text.split()\n",
    "    inputList.reverse()\n",
    "    \n",
    "    return \" \".join(inputList)"
   ]
  },
  {
   "cell_type": "code",
   "execution_count": 9,
   "metadata": {},
   "outputs": [
    {
     "data": {
      "text/plain": [
       "'dog. lazy the over jumps fox brown quick The'"
      ]
     },
     "execution_count": 9,
     "metadata": {},
     "output_type": "execute_result"
    }
   ],
   "source": [
    "input = \"The quick brown fox jumps over the lazy dog.\"\n",
    "reverseString(input)"
   ]
  }
 ],
 "metadata": {
  "kernelspec": {
   "display_name": "Python 3",
   "language": "python",
   "name": "python3"
  },
  "language_info": {
   "codemirror_mode": {
    "name": "ipython",
    "version": 3
   },
   "file_extension": ".py",
   "mimetype": "text/x-python",
   "name": "python",
   "nbconvert_exporter": "python",
   "pygments_lexer": "ipython3",
   "version": "3.7.4"
  }
 },
 "nbformat": 4,
 "nbformat_minor": 2
}
