{
 "cells": [
  {
   "cell_type": "code",
   "execution_count": null,
   "metadata": {
    "collapsed": true
   },
   "outputs": [],
   "source": [
    "# Write a Python program to flip a coin 1000 times and count heads and tails."
   ]
  },
  {
   "cell_type": "code",
   "execution_count": 12,
   "metadata": {},
   "outputs": [],
   "source": [
    "import random\n",
    "def flipCoin(times):\n",
    "    count_head = 0\n",
    "    count_tail = 0\n",
    "    coin = [\"Head\", \"Tail\"]\n",
    "    listOfFlips = random.choices(coin, k=times)\n",
    "    count_head = listOfFlips.count('Head')\n",
    "    count_tail = listOfFlips.count('Tail')\n",
    "    \n",
    "    print(\"{} {} {} {}\".format(\"count of heads\",count_head, \"count of tails\",count_tail))\n",
    "    "
   ]
  },
  {
   "cell_type": "code",
   "execution_count": 13,
   "metadata": {},
   "outputs": [
    {
     "name": "stdout",
     "output_type": "stream",
     "text": [
      "count of heads 529 count of tails 471\n"
     ]
    }
   ],
   "source": [
    "flipCoin(1000)"
   ]
  }
 ],
 "metadata": {
  "kernelspec": {
   "display_name": "Python 3",
   "language": "python",
   "name": "python3"
  },
  "language_info": {
   "codemirror_mode": {
    "name": "ipython",
    "version": 3
   },
   "file_extension": ".py",
   "mimetype": "text/x-python",
   "name": "python",
   "nbconvert_exporter": "python",
   "pygments_lexer": "ipython3",
   "version": "3.7.4"
  }
 },
 "nbformat": 4,
 "nbformat_minor": 2
}
