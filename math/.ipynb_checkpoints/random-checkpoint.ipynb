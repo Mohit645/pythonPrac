{
 "cells": [
  {
   "cell_type": "code",
   "execution_count": 1,
   "metadata": {},
   "outputs": [],
   "source": [
    "#  Write a Python program to generate a series of unique random numbers"
   ]
  },
  {
   "cell_type": "code",
   "execution_count": 8,
   "metadata": {},
   "outputs": [
    {
     "name": "stdout",
     "output_type": "stream",
     "text": [
      "[44, 28, 32, 73, 97, 66, 77, 87, 38, 30, 74, 67, 94, 96, 82, 10, 99, 92, 15, 81, 22, 79, 27, 52, 2, 35, 49, 84, 86, 78, 55, 47, 72, 62, 5, 83, 71, 68, 70, 6, 89, 95, 37, 51, 12, 14, 8, 61, 23, 0, 40, 9, 11, 1, 36, 29, 60, 20, 64, 65, 58, 33, 17, 90, 85, 39, 41, 3, 45, 59, 7, 18, 42, 98, 25, 48, 46, 16, 57, 76, 26, 54, 50, 63, 34, 80, 75, 93, 19, 24, 31, 88, 13, 69, 56, 53, 4, 21, 91, 43]\n"
     ]
    }
   ],
   "source": [
    "import random\n",
    "print(random.sample(range(0,100), 100))"
   ]
  }
 ],
 "metadata": {
  "kernelspec": {
   "display_name": "Python 3",
   "language": "python",
   "name": "python3"
  },
  "language_info": {
   "codemirror_mode": {
    "name": "ipython",
    "version": 3
   },
   "file_extension": ".py",
   "mimetype": "text/x-python",
   "name": "python",
   "nbconvert_exporter": "python",
   "pygments_lexer": "ipython3",
   "version": "3.7.4"
  }
 },
 "nbformat": 4,
 "nbformat_minor": 2
}
