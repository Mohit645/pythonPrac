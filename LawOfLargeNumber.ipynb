{
 "cells": [
  {
   "cell_type": "code",
   "execution_count": 37,
   "metadata": {},
   "outputs": [],
   "source": [
    "#Prove Law of Large number\n",
    "#In probability theory, the law of large numbers (LLN) is a theorem that describes the result of performing the same \n",
    "#experiment a large number of times. According to the law, the average of the results obtained from a large number of \n",
    "#trials should be close to the expected value and will tend to become closer to the expected value as more trials are performed"
   ]
  },
  {
   "cell_type": "code",
   "execution_count": 38,
   "metadata": {},
   "outputs": [
    {
     "name": "stdout",
     "output_type": "stream",
     "text": [
      "20 16 22 16 15 11\n"
     ]
    },
    {
     "data": {
      "image/png": "[encoded data removed]",
      "text/plain": [
       "<Figure size 432x288 with 1 Axes>"
      ]
     },
     "metadata": {
      "needs_background": "light"
     },
     "output_type": "display_data"
    }
   ],
   "source": [
    "\n",
    "# generate random integer values\n",
    "from random import seed\n",
    "from random import randint\n",
    "import numpy as np\n",
    "\n",
    "# seed random number generator\n",
    "import matplotlib.pyplot as plt\n",
    "\n",
    "seed(645)\n",
    "count_6 = 0\n",
    "count_1 = 0\n",
    "count_2 = 0\n",
    "count_3 = 0\n",
    "count_4 = 0\n",
    "count_5 = 0\n",
    "trial = 100\n",
    "# generate random integer values\n",
    "\n",
    "for _ in range(trial):\n",
    "    value = randint(1, 6)\n",
    "    \n",
    "    if(value==1):\n",
    "        count_1 = count_1+1\n",
    "    elif(value==2):\n",
    "        count_2 = count_2+1\n",
    "    elif(value==3):\n",
    "        count_3 = count_3+1\n",
    "    elif(value==4):\n",
    "        count_4 = count_4+1       \n",
    "    elif(value==5):\n",
    "        count_5 = count_5+1    \n",
    "    elif(value==6):\n",
    "        count_6 = count_6+1 \n",
    "        \n",
    "print(count_1, count_2, count_3, count_4, count_5, count_6)\n",
    "fig = plt.figure()\n",
    "dice_number = [count_1, count_2, count_3, count_4, count_5, count_6]\n",
    "\n",
    "bars = ('1', '2', '3', '4', '5', '6')\n",
    "\n",
    "y_pos = np.arange(len(bars))\n",
    " \n",
    "# Create bars\n",
    "plt.bar(y_pos, dice_number)\n",
    " \n",
    "# Create names on the x-axis\n",
    "plt.xticks(y_pos, bars)\n",
    " \n",
    "# Show graphic\n",
    "plt.show()\n",
    "\n",
    "\n"
   ]
  },
  {
   "cell_type": "code",
   "execution_count": 39,
   "metadata": {},
   "outputs": [
    {
     "name": "stdout",
     "output_type": "stream",
     "text": [
      "213 160 207 184 174 162\n"
     ]
    },
    {
     "data": {
      "image/png": "[encoded data removed]",
      "text/plain": [
       "<Figure size 432x288 with 1 Axes>"
      ]
     },
     "metadata": {
      "needs_background": "light"
     },
     "output_type": "display_data"
    }
   ],
   "source": [
    "trial = 1000\n",
    "# generate random integer values\n",
    "\n",
    "for _ in range(trial):\n",
    "    value = randint(1, 6)\n",
    "    \n",
    "    if(value==1):\n",
    "        count_1 = count_1+1\n",
    "    elif(value==2):\n",
    "        count_2 = count_2+1\n",
    "    elif(value==3):\n",
    "        count_3 = count_3+1\n",
    "    elif(value==4):\n",
    "        count_4 = count_4+1       \n",
    "    elif(value==5):\n",
    "        count_5 = count_5+1    \n",
    "    elif(value==6):\n",
    "        count_6 = count_6+1 \n",
    "        \n",
    "print(count_1, count_2, count_3, count_4, count_5, count_6)\n",
    "fig = plt.figure()\n",
    "dice_number = [count_1, count_2, count_3, count_4, count_5, count_6]\n",
    "\n",
    "bars = ('1', '2', '3', '4', '5', '6')\n",
    "\n",
    "y_pos = np.arange(len(bars))\n",
    " \n",
    "# Create bars\n",
    "plt.bar(y_pos, dice_number)\n",
    " \n",
    "# Create names on the x-axis\n",
    "plt.xticks(y_pos, bars)\n",
    " \n",
    "# Show graphic\n",
    "plt.show()\n",
    "\n",
    "\n"
   ]
  },
  {
   "cell_type": "code",
   "execution_count": 40,
   "metadata": {},
   "outputs": [
    {
     "name": "stdout",
     "output_type": "stream",
     "text": [
      "1858 1807 1866 1793 1888 1888\n"
     ]
    },
    {
     "data": {
      "image/png": "[encoded data removed]",
      "text/plain": [
       "<Figure size 432x288 with 1 Axes>"
      ]
     },
     "metadata": {
      "needs_background": "light"
     },
     "output_type": "display_data"
    }
   ],
   "source": [
    "trial = 10000\n",
    "# generate random integer values\n",
    "\n",
    "for _ in range(trial):\n",
    "    value = randint(1, 6)\n",
    "    \n",
    "    if(value==1):\n",
    "        count_1 = count_1+1\n",
    "    elif(value==2):\n",
    "        count_2 = count_2+1\n",
    "    elif(value==3):\n",
    "        count_3 = count_3+1\n",
    "    elif(value==4):\n",
    "        count_4 = count_4+1       \n",
    "    elif(value==5):\n",
    "        count_5 = count_5+1    \n",
    "    elif(value==6):\n",
    "        count_6 = count_6+1 \n",
    "        \n",
    "print(count_1, count_2, count_3, count_4, count_5, count_6)\n",
    "fig = plt.figure()\n",
    "dice_number = [count_1, count_2, count_3, count_4, count_5, count_6]\n",
    "\n",
    "bars = ('1', '2', '3', '4', '5', '6')\n",
    "\n",
    "y_pos = np.arange(len(bars))\n",
    " \n",
    "# Create bars\n",
    "plt.bar(y_pos, dice_number)\n",
    " \n",
    "# Create names on the x-axis\n",
    "plt.xticks(y_pos, bars)\n",
    " \n",
    "# Show graphic\n",
    "plt.show()"
   ]
  },
  {
   "cell_type": "code",
   "execution_count": 41,
   "metadata": {},
   "outputs": [
    {
     "name": "stdout",
     "output_type": "stream",
     "text": [
      "18650 18615 18244 18372 18481 18738\n"
     ]
    },
    {
     "data": {
      "image/png": "[encoded data removed]",
      "text/plain": [
       "<Figure size 432x288 with 1 Axes>"
      ]
     },
     "metadata": {
      "needs_background": "light"
     },
     "output_type": "display_data"
    }
   ],
   "source": [
    "trial = 100000\n",
    "# generate random integer values\n",
    "\n",
    "for _ in range(trial):\n",
    "    value = randint(1, 6)\n",
    "    \n",
    "    if(value==1):\n",
    "        count_1 = count_1+1\n",
    "    elif(value==2):\n",
    "        count_2 = count_2+1\n",
    "    elif(value==3):\n",
    "        count_3 = count_3+1\n",
    "    elif(value==4):\n",
    "        count_4 = count_4+1       \n",
    "    elif(value==5):\n",
    "        count_5 = count_5+1    \n",
    "    elif(value==6):\n",
    "        count_6 = count_6+1 \n",
    "        \n",
    "print(count_1, count_2, count_3, count_4, count_5, count_6)\n",
    "fig = plt.figure()\n",
    "dice_number = [count_1, count_2, count_3, count_4, count_5, count_6]\n",
    "\n",
    "bars = ('1', '2', '3', '4', '5', '6')\n",
    "\n",
    "y_pos = np.arange(len(bars))\n",
    " \n",
    "# Create bars\n",
    "plt.bar(y_pos, dice_number)\n",
    " \n",
    "# Create names on the x-axis\n",
    "plt.xticks(y_pos, bars)\n",
    " \n",
    "# Show graphic\n",
    "plt.show()"
   ]
  }
 ],
 "metadata": {
  "kernelspec": {
   "display_name": "Python 3",
   "language": "python",
   "name": "python3"
  },
  "language_info": {
   "codemirror_mode": {
    "name": "ipython",
    "version": 3
   },
   "file_extension": ".py",
   "mimetype": "text/x-python",
   "name": "python",
   "nbconvert_exporter": "python",
   "pygments_lexer": "ipython3",
   "version": "3.7.4"
  }
 },
 "nbformat": 4,
 "nbformat_minor": 2
}
