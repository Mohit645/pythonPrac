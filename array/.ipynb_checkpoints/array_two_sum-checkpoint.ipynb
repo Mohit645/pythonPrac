{
 "cells": [
  {
   "cell_type": "code",
   "execution_count": 4,
   "metadata": {},
   "outputs": [],
   "source": [
    "# Given an array of integers, return indices of the two numbers\n",
    "# such that they add up to a specific target.\n",
    "# You may assume that each input would have exactly one solution\n",
    "\n",
    "# Example:\n",
    "#     Given nums = [2, 7, 11, 15], target = 26,\n",
    "#     Because nums[2] + nums[3] = 11 + 15 = 26,\n",
    "#     return [2, 3]."
   ]
  },
  {
   "cell_type": "code",
   "execution_count": 25,
   "metadata": {},
   "outputs": [],
   "source": [
    "def indicesFinder(arr, target):\n",
    "    flag = \"No indices found\"\n",
    "    for index, value in enumerate(arr):\n",
    "        index1 = index\n",
    "        val1 = value\n",
    "        tempArr = arr[1:]\n",
    "        for idx, val in enumerate(tempArr):\n",
    "            if(val1 + val == target):\n",
    "                flag = list()\n",
    "                flag.append([index1, arr.index(val)])            \n",
    "    \n",
    "    return flag       "
   ]
  },
  {
   "cell_type": "code",
   "execution_count": 23,
   "metadata": {},
   "outputs": [
    {
     "data": {
      "text/plain": [
       "[[3, 1]]"
      ]
     },
     "execution_count": 23,
     "metadata": {},
     "output_type": "execute_result"
    }
   ],
   "source": [
    "indicesFinder([2, 7, 11, 15], 22)"
   ]
  },
  {
   "cell_type": "code",
   "execution_count": 26,
   "metadata": {},
   "outputs": [
    {
     "data": {
      "text/plain": [
       "'No indices found'"
      ]
     },
     "execution_count": 26,
     "metadata": {},
     "output_type": "execute_result"
    }
   ],
   "source": [
    "indicesFinder([2, 7, 11, 15], 45)"
   ]
  },
  {
   "cell_type": "code",
   "execution_count": 19,
   "metadata": {},
   "outputs": [
    {
     "data": {
      "text/plain": [
       "[[3, 2]]"
      ]
     },
     "execution_count": 19,
     "metadata": {},
     "output_type": "execute_result"
    }
   ],
   "source": [
    "indicesFinder([2, 7, 11, 15], 26)"
   ]
  },
  {
   "cell_type": "code",
   "execution_count": 18,
   "metadata": {},
   "outputs": [
    {
     "data": {
      "text/plain": [
       "[[2, 1]]"
      ]
     },
     "execution_count": 18,
     "metadata": {},
     "output_type": "execute_result"
    }
   ],
   "source": [
    "indicesFinder([2, 7, 11, 15], 18)"
   ]
  }
 ],
 "metadata": {
  "kernelspec": {
   "display_name": "Python 3",
   "language": "python",
   "name": "python3"
  },
  "language_info": {
   "codemirror_mode": {
    "name": "ipython",
    "version": 3
   },
   "file_extension": ".py",
   "mimetype": "text/x-python",
   "name": "python",
   "nbconvert_exporter": "python",
   "pygments_lexer": "ipython3",
   "version": "3.7.4"
  }
 },
 "nbformat": 4,
 "nbformat_minor": 2
}
