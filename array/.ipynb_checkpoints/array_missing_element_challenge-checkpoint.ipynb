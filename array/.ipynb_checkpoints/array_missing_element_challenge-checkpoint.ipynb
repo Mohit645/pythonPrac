{
 "cells": [
  {
   "cell_type": "code",
   "execution_count": 1,
   "metadata": {
    "scrolled": true
   },
   "outputs": [],
   "source": [
    "# Consider an array of non-negative integers.\n",
    "# A second array is formed by shuffling the elements of the first array and deleting a random element. \n",
    "# Given these two arrays, find which element is missing in the second array.\n",
    "# Here is an example input, the first array is shuffled and the number 5 is removed to construct the second array.\n",
    "# Input:\n",
    "# finder([1,2,3,4,5,6,7],[3,7,2,1,4,6])\n",
    "# Output:\n",
    "# 5 is the missing number"
   ]
  },
  {
   "cell_type": "code",
   "execution_count": 37,
   "metadata": {},
   "outputs": [],
   "source": [
    "import numpy as np\n",
    "def finder(arr1, arr2):\n",
    "    arr_s = [] #smaller array\n",
    "    arr_b = [] #bigger array\n",
    "    if(len(arr1) < len(arr2)):\n",
    "        arr_s = arr1\n",
    "        arr_b = arr2\n",
    "    else:\n",
    "        arr_s = arr2\n",
    "        arr_b = arr1\n",
    "    missingElement = None\n",
    "    for i in arr_b:\n",
    "        countOfElement = 0\n",
    "        countOfElement = arr_s.count(i)\n",
    "        if(countOfElement==0):\n",
    "            missingElement = i\n",
    "    return missingElement        \n",
    "        "
   ]
  },
  {
   "cell_type": "code",
   "execution_count": 38,
   "metadata": {},
   "outputs": [
    {
     "name": "stdout",
     "output_type": "stream",
     "text": [
      "5 is the missing number\n"
     ]
    }
   ],
   "source": [
    "print(str(finder([1,2,3,4,5,6,7],[3,7,2,1,4,6]))+\" is the missing number\")"
   ]
  }
 ],
 "metadata": {
  "kernelspec": {
   "display_name": "Python 3",
   "language": "python",
   "name": "python3"
  },
  "language_info": {
   "codemirror_mode": {
    "name": "ipython",
    "version": 3
   },
   "file_extension": ".py",
   "mimetype": "text/x-python",
   "name": "python",
   "nbconvert_exporter": "python",
   "pygments_lexer": "ipython3",
   "version": "3.7.4"
  }
 },
 "nbformat": 4,
 "nbformat_minor": 2
}
