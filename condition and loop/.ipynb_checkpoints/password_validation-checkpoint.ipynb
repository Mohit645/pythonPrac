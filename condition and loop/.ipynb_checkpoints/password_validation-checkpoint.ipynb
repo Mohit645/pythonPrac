{
 "cells": [
  {
   "cell_type": "code",
   "execution_count": 1,
   "metadata": {},
   "outputs": [],
   "source": [
    "# Write a Python program to check the validity of a password (input from users).\n",
    "\n",
    "# Validation :\n",
    "\n",
    "# At least 1 letter between [a-z] and 1 letter between [A-Z].\n",
    "# At least 1 number between [0-9].\n",
    "# At least 1 character from [$#@].\n",
    "# Minimum length 6 characters.\n",
    "# Maximum length 16 characters.\n",
    "\n",
    "# Input\n",
    "# W3r@100a\n",
    "# Output\n",
    "# Valid password"
   ]
  },
  {
   "cell_type": "code",
   "execution_count": 19,
   "metadata": {},
   "outputs": [],
   "source": [
    "def passwordChecker(password):\n",
    "    flag = \"Invalid Password\"\n",
    "    count_lowerCases = 0\n",
    "    count_upperCases = 0\n",
    "    count_digits = 0\n",
    "    count_specialChar = 0\n",
    "    for i in password:\n",
    "        if(i.islower()):\n",
    "            count_lowerCases = count_lowerCases + 1\n",
    "        if(i.isupper()):\n",
    "            count_upperCases = count_upperCases + 1\n",
    "        if(i.isdigit()):\n",
    "            count_digits = count_digits + 1\n",
    "        if(i.find('$')==False or i.find('#')==False or i.find('@')==False):\n",
    "            count_specialChar = count_specialChar + 1\n",
    "    if(len(password)>=6 and len(password)<=16 and count_digits>0 and count_lowerCases>0 and count_specialChar>0 and count_upperCases>0):\n",
    "        flag = \"Valid Password\"\n",
    "    return flag\n"
   ]
  },
  {
   "cell_type": "code",
   "execution_count": 20,
   "metadata": {},
   "outputs": [
    {
     "name": "stdout",
     "output_type": "stream",
     "text": [
      "Password input from user: Pass@34\n"
     ]
    },
    {
     "data": {
      "text/plain": [
       "'Valid Password'"
      ]
     },
     "execution_count": 20,
     "metadata": {},
     "output_type": "execute_result"
    }
   ],
   "source": [
    "password = str(input(\"Password input from user: \"))\n",
    "passwordChecker(password)"
   ]
  },
  {
   "cell_type": "code",
   "execution_count": 21,
   "metadata": {},
   "outputs": [
    {
     "name": "stdout",
     "output_type": "stream",
     "text": [
      "Password input from user: laskfh@3\n"
     ]
    },
    {
     "data": {
      "text/plain": [
       "'Invalid Password'"
      ]
     },
     "execution_count": 21,
     "metadata": {},
     "output_type": "execute_result"
    }
   ],
   "source": [
    "password = str(input(\"Password input from user: \"))\n",
    "passwordChecker(password)"
   ]
  },
  {
   "cell_type": "code",
   "execution_count": null,
   "metadata": {},
   "outputs": [],
   "source": []
  }
 ],
 "metadata": {
  "kernelspec": {
   "display_name": "Python 3",
   "language": "python",
   "name": "python3"
  },
  "language_info": {
   "codemirror_mode": {
    "name": "ipython",
    "version": 3
   },
   "file_extension": ".py",
   "mimetype": "text/x-python",
   "name": "python",
   "nbconvert_exporter": "python",
   "pygments_lexer": "ipython3",
   "version": "3.7.4"
  }
 },
 "nbformat": 4,
 "nbformat_minor": 2
}
