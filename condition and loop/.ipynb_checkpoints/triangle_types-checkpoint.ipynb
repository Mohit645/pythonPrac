{
 "cells": [
  {
   "cell_type": "code",
   "execution_count": null,
   "metadata": {
    "collapsed": true
   },
   "outputs": [],
   "source": [
    "# Write a Python program to check a triangle is equilateral, isosceles or scalene.\n",
    "# Note :\n",
    "# An equilateral triangle is a triangle in which all three sides are equal.\n",
    "# A scalene triangle is a triangle that has three unequal sides.\n",
    "# An isosceles triangle is a triangle with (at least) two equal sides."
   ]
  },
  {
   "cell_type": "code",
   "execution_count": 4,
   "metadata": {},
   "outputs": [
    {
     "name": "stdout",
     "output_type": "stream",
     "text": [
      "Please enter the first side: 5\n",
      "Please enter the second side: 6\n",
      "Please enter the third side: 5\n",
      "The triangle is an isosceles triangle\n"
     ]
    }
   ],
   "source": [
    "side1 = int(input(\"Please enter the first side: \"))\n",
    "side2 = int(input(\"Please enter the second side: \"))\n",
    "side3 = int(input(\"Please enter the third side: \"))\n",
    "\n",
    "side_List = [side1,side2,side3]\n",
    "side_List.sort()\n",
    "if(side_List[0]+side_List[1]>side_List[2]):\n",
    "    if(side1==side2 and side2==side3):\n",
    "        print(\"The triangle is an equilateral triangle\")\n",
    "    elif(side1==side2 or side2==side3 or side1==side3):\n",
    "        print(\"The triangle is an isosceles triangle\") \n",
    "    else:\n",
    "        print(\"The triangle is scalene triangle\")        "
   ]
  }
 ],
 "metadata": {
  "kernelspec": {
   "display_name": "Python 3",
   "language": "python",
   "name": "python3"
  },
  "language_info": {
   "codemirror_mode": {
    "name": "ipython",
    "version": 3
   },
   "file_extension": ".py",
   "mimetype": "text/x-python",
   "name": "python",
   "nbconvert_exporter": "python",
   "pygments_lexer": "ipython3",
   "version": "3.7.4"
  }
 },
 "nbformat": 4,
 "nbformat_minor": 2
}
