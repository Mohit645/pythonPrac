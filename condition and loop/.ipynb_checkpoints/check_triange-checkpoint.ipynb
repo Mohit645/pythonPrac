{
 "cells": [
  {
   "cell_type": "code",
   "execution_count": null,
   "metadata": {
    "collapsed": true
   },
   "outputs": [],
   "source": [
    "# ---------------------------------------------------------------\n",
    "# python best courses https://courses.tanpham.org/\n",
    "# ---------------------------------------------------------------\n",
    "# Write a Python program to check a triangle is valid or not"
   ]
  },
  {
   "cell_type": "code",
   "execution_count": 21,
   "metadata": {},
   "outputs": [
    {
     "name": "stdout",
     "output_type": "stream",
     "text": [
      "Please enter the first side: 13\n",
      "Please enter the second side: 12\n",
      "Please enter the third side: 5\n"
     ]
    },
    {
     "data": {
      "text/plain": [
       "'The triangle is valid'"
      ]
     },
     "execution_count": 21,
     "metadata": {},
     "output_type": "execute_result"
    }
   ],
   "source": [
    "def validateTriangle(s1,s2,s3):\n",
    "    sideList = list()\n",
    "    sideList = [s1,s2,s3]\n",
    "    sideList.sort()\n",
    "    flag = \"The triangle is not valid\"\n",
    "    if(sideList[0]+sideList[1]>sideList[2]):\n",
    "        flag = \"The triangle is valid\"\n",
    "\n",
    "    return flag\n",
    "        \n",
    "s1 = int(input(\"Please enter the first side: \"))\n",
    "s2 = int(input(\"Please enter the second side: \"))\n",
    "s3 = int(input(\"Please enter the third side: \"))\n",
    "\n",
    "validateTriangle(s1,s2,s3)"
   ]
  }
 ],
 "metadata": {
  "kernelspec": {
   "display_name": "Python 3",
   "language": "python",
   "name": "python3"
  },
  "language_info": {
   "codemirror_mode": {
    "name": "ipython",
    "version": 3
   },
   "file_extension": ".py",
   "mimetype": "text/x-python",
   "name": "python",
   "nbconvert_exporter": "python",
   "pygments_lexer": "ipython3",
   "version": "3.7.4"
  }
 },
 "nbformat": 4,
 "nbformat_minor": 2
}
