{
 "cells": [
  {
   "cell_type": "code",
   "execution_count": null,
   "metadata": {
    "collapsed": true
   },
   "outputs": [],
   "source": [
    "# ---------------------------------------------------------------\n",
    "# python best courses https://courses.tanpham.org/\n",
    "# ---------------------------------------------------------------\n",
    "# Write a Python program that accepts a string and calculate the number of digits and letters\n",
    "# Sample Data : \"Python 3.2\"\n",
    "# Expected Output :\n",
    "# Letters 6 \n",
    "# Digits 2"
   ]
  },
  {
   "cell_type": "code",
   "execution_count": 7,
   "metadata": {},
   "outputs": [
    {
     "name": "stdout",
     "output_type": "stream",
     "text": [
      "Letters 6\n",
      "Digits 2\n"
     ]
    }
   ],
   "source": [
    "Sample_Data = \"Python 3.2\"\n",
    "count_letter = 0\n",
    "count_digit = 0\n",
    "for i in Sample_Data:\n",
    "    if(i.isalpha()):\n",
    "        count_letter = count_letter + 1\n",
    "    if(i.isnumeric()):\n",
    "        count_digit = count_digit + 1\n",
    "print(\"Letters \" + str(count_letter))        \n",
    "print(\"Digits \" + str(count_digit))      "
   ]
  }
 ],
 "metadata": {
  "kernelspec": {
   "display_name": "Python 3",
   "language": "python",
   "name": "python3"
  },
  "language_info": {
   "codemirror_mode": {
    "name": "ipython",
    "version": 3
   },
   "file_extension": ".py",
   "mimetype": "text/x-python",
   "name": "python",
   "nbconvert_exporter": "python",
   "pygments_lexer": "ipython3",
   "version": "3.7.4"
  }
 },
 "nbformat": 4,
 "nbformat_minor": 2
}
