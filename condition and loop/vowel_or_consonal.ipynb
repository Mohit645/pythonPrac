{
 "cells": [
  {
   "cell_type": "code",
   "execution_count": null,
   "metadata": {
    "collapsed": true
   },
   "outputs": [],
   "source": [
    "# Write a Python program to check whether an alphabet is a vowel or consonant"
   ]
  },
  {
   "cell_type": "code",
   "execution_count": 16,
   "metadata": {},
   "outputs": [
    {
     "name": "stdout",
     "output_type": "stream",
     "text": [
      "Please enter your alphabet: z\n",
      "z is a consonant\n"
     ]
    }
   ],
   "source": [
    "alphabet = str(input(\"Please enter your alphabet: \"))\n",
    "vowel_List = ['a', 'e', 'i', 'o', 'u']\n",
    "\n",
    "if(alphabet in vowel_List):\n",
    "    print(\"%s is a vowel\" % alphabet)\n",
    "else:\n",
    "    print(\"%s is a consonant\" % alphabet)"
   ]
  }
 ],
 "metadata": {
  "kernelspec": {
   "display_name": "Python 3",
   "language": "python",
   "name": "python3"
  },
  "language_info": {
   "codemirror_mode": {
    "name": "ipython",
    "version": 3
   },
   "file_extension": ".py",
   "mimetype": "text/x-python",
   "name": "python",
   "nbconvert_exporter": "python",
   "pygments_lexer": "ipython3",
   "version": "3.7.4"
  }
 },
 "nbformat": 4,
 "nbformat_minor": 2
}
