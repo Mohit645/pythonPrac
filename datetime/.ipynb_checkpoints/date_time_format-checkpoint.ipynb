{
 "cells": [
  {
   "cell_type": "code",
   "execution_count": null,
   "metadata": {
    "collapsed": true
   },
   "outputs": [],
   "source": [
    "# Write a Python script to display the various Date Time formats.\n",
    "\n",
    "# a) Current date and time\n",
    "# b) Current year\n",
    "# c) Month of year\n",
    "# d) Week number of the year\n",
    "# e) Weekday of the week\n",
    "# f) Day of year\n",
    "# g) Day of the month\n",
    "# h) Day of week"
   ]
  },
  {
   "cell_type": "code",
   "execution_count": 13,
   "metadata": {},
   "outputs": [
    {
     "name": "stdout",
     "output_type": "stream",
     "text": [
      "Current date and time:  2020-04-21 08:48:48.471029\n",
      "Current year:  2020\n",
      "Month of year:  April\n",
      "Week number of the year:  16\n",
      "Weekday of the week:  2\n",
      "Day of year:  112\n",
      "Day of the month :  21\n",
      "Day of week:  Tuesday\n"
     ]
    }
   ],
   "source": [
    "import time\n",
    "import datetime\n",
    "print(\"Current date and time: \" , datetime.datetime.now())\n",
    "print(\"Current year: \", datetime.date.today().strftime(\"%Y\"))\n",
    "print(\"Month of year: \", datetime.date.today().strftime(\"%B\"))\n",
    "print(\"Week number of the year: \", datetime.date.today().strftime(\"%W\"))\n",
    "print(\"Weekday of the week: \", datetime.date.today().strftime(\"%w\"))\n",
    "print(\"Day of year: \", datetime.date.today().strftime(\"%j\"))\n",
    "print(\"Day of the month : \", datetime.date.today().strftime(\"%d\"))\n",
    "print(\"Day of week: \", datetime.date.today().strftime(\"%A\"))"
   ]
  }
 ],
 "metadata": {
  "kernelspec": {
   "display_name": "Python 3",
   "language": "python",
   "name": "python3"
  },
  "language_info": {
   "codemirror_mode": {
    "name": "ipython",
    "version": 3
   },
   "file_extension": ".py",
   "mimetype": "text/x-python",
   "name": "python",
   "nbconvert_exporter": "python",
   "pygments_lexer": "ipython3",
   "version": "3.7.4"
  }
 },
 "nbformat": 4,
 "nbformat_minor": 2
}
