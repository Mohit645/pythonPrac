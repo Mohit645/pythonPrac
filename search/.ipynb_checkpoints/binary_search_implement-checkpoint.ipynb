{
 "cells": [
  {
   "cell_type": "code",
   "execution_count": null,
   "metadata": {
    "collapsed": true
   },
   "outputs": [],
   "source": [
    "# Write a Python program for binary search. \n",
    "# Binary Search : In computer science, a binary search or half-interval search algorithm finds the position of a target value\n",
    "# within a sorted array. The binary search algorithm can be classified as a dichotomies divide-and-conquer search algorithm and \n",
    "# executes in logarithmic time."
   ]
  },
  {
   "cell_type": "code",
   "execution_count": 69,
   "metadata": {},
   "outputs": [],
   "source": [
    "def binarySearch(arr, lowIndex, highIndex, target):\n",
    "    while highIndex >= lowIndex :\n",
    "        midIndex = (highIndex+lowIndex) // 2\n",
    "        #print(midIndex, highIndex, lowIndex)\n",
    "        if arr[midIndex]==target :\n",
    "            return midIndex\n",
    "        \n",
    "        elif (arr[midIndex] > target):\n",
    "            highIndex = midIndex+1\n",
    "        \n",
    "        else :            \n",
    "            lowIndex = midIndex-1"
   ]
  },
  {
   "cell_type": "code",
   "execution_count": 76,
   "metadata": {},
   "outputs": [
    {
     "data": {
      "text/plain": [
       "4"
      ]
     },
     "execution_count": 76,
     "metadata": {},
     "output_type": "execute_result"
    }
   ],
   "source": [
    "arr = [2, 4, 5, 8, 12, 16, 23, 38, 41, 56, 72, 96]\n",
    "lowIndex = 0\n",
    "highIndex = len(arr)-1  \n",
    "target = 12\n",
    "binarySearch(arr, lowIndex, highIndex, 12)"
   ]
  },
  {
   "cell_type": "code",
   "execution_count": 77,
   "metadata": {},
   "outputs": [
    {
     "data": {
      "text/plain": [
       "7"
      ]
     },
     "execution_count": 77,
     "metadata": {},
     "output_type": "execute_result"
    }
   ],
   "source": [
    "arr = [2, 4, 5, 8, 12, 16, 23, 38, 41, 56, 72, 96]\n",
    "lowIndex = 0\n",
    "highIndex = len(arr)-1  \n",
    "target = 12\n",
    "binarySearch(arr, lowIndex, highIndex, 38)"
   ]
  }
 ],
 "metadata": {
  "kernelspec": {
   "display_name": "Python 3",
   "language": "python",
   "name": "python3"
  },
  "language_info": {
   "codemirror_mode": {
    "name": "ipython",
    "version": 3
   },
   "file_extension": ".py",
   "mimetype": "text/x-python",
   "name": "python",
   "nbconvert_exporter": "python",
   "pygments_lexer": "ipython3",
   "version": "3.7.4"
  }
 },
 "nbformat": 4,
 "nbformat_minor": 2
}
