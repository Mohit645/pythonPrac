{
 "cells": [
  {
   "cell_type": "code",
   "execution_count": null,
   "metadata": {
    "collapsed": true
   },
   "outputs": [],
   "source": [
    "# Write a Python program for sequential search.\n",
    "# Sequential Search: In computer science, linear search or sequential search is a method for finding a particular value in a list\n",
    "# that checks each element in sequence until the desired element is found or the list is exhausted. The list need not be ordered.\n"
   ]
  },
  {
   "cell_type": "code",
   "execution_count": 1,
   "metadata": {},
   "outputs": [],
   "source": [
    "def sequentialSearch1(arr, target):\n",
    "    flag = \"Target not found\"\n",
    "    for i in range(len(arr)):\n",
    "        if(arr[i]== target):\n",
    "            flag = i\n",
    "    return flag"
   ]
  },
  {
   "cell_type": "code",
   "execution_count": 4,
   "metadata": {},
   "outputs": [
    {
     "name": "stdout",
     "output_type": "stream",
     "text": [
      "1\n",
      "3\n",
      "6\n",
      "Target not found\n"
     ]
    }
   ],
   "source": [
    "arr = [3,8,12,56,78,34,90,45]\n",
    "targets = [8,56,90,100]\n",
    "for target in targets:\n",
    "    print(sequentialSearch1(arr, target))"
   ]
  },
  {
   "cell_type": "code",
   "execution_count": 6,
   "metadata": {},
   "outputs": [],
   "source": [
    "def sequentialSearch2(arr, target):\n",
    "    position = 0\n",
    "    Found = False\n",
    "    while position < len(arr) and not Found:\n",
    "        if(arr[position] == target):\n",
    "            Found = True\n",
    "        else:\n",
    "            position += 1\n",
    "    return Found, position        "
   ]
  },
  {
   "cell_type": "code",
   "execution_count": 7,
   "metadata": {},
   "outputs": [
    {
     "name": "stdout",
     "output_type": "stream",
     "text": [
      "(True, 1)\n",
      "(True, 3)\n",
      "(True, 6)\n",
      "(False, 8)\n"
     ]
    }
   ],
   "source": [
    "arr = [3,8,12,56,78,34,90,45]\n",
    "targets = [8,56,90,100]\n",
    "for target in targets:\n",
    "    print(sequentialSearch2(arr, target))"
   ]
  }
 ],
 "metadata": {
  "kernelspec": {
   "display_name": "Python 3",
   "language": "python",
   "name": "python3"
  },
  "language_info": {
   "codemirror_mode": {
    "name": "ipython",
    "version": 3
   },
   "file_extension": ".py",
   "mimetype": "text/x-python",
   "name": "python",
   "nbconvert_exporter": "python",
   "pygments_lexer": "ipython3",
   "version": "3.7.4"
  }
 },
 "nbformat": 4,
 "nbformat_minor": 2
}
